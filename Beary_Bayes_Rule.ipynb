{
 "cells": [
  {
   "cell_type": "markdown",
   "id": "7c5d73f0",
   "metadata": {},
   "source": [
    "# LeetCode Style Question: Bayes' Rule"
   ]
  },
  {
   "cell_type": "markdown",
   "id": "cda901ab",
   "metadata": {},
   "source": [
    "\n",
    "## Problem Description\n",
    "\n",
    "In his journey through the enchanted forest, Beary finds an ancient alchemist's lab filled with various magical ingredients. Each ingredient has a probability of success for creating a specific type of potion. Beary's challenge is to determine the optimal mix of ingredients to maximize the success rate of a powerful healing potion, given new evidence from the alchemist's notes.\n",
    "\n",
    "Beary discovers that combining certain ingredients alters the success probability of the healing potion. Initially, he knows the individual success probabilities of each ingredient. However, the alchemist’s notes reveal interactions between ingredients that Beary must consider. Help Beary apply Bayes' Rule to update the success probabilities based on these interactions.\n",
    "\n",
    "**Function Signature:**\n",
    "```python\n",
    "def update_probabilities(priors: List[float], likelihoods: List[float]) -> List[float]:\n",
    "    pass\n",
    "```\n",
    "\n",
    "### Input\n",
    "- `priors`: A list of floats representing the prior probabilities of success for each ingredient.\n",
    "- `likelihoods`: A list of floats representing the likelihoods of success given new evidence for each ingredient.\n",
    "\n",
    "### Output\n",
    "- Returns a list of floats representing the updated probabilities of success for each ingredient.\n",
    "\n",
    "### Constraints\n",
    "- The length of `priors` and `likelihoods` will be at most 100.\n",
    "- The values in `priors` and `likelihoods` will be between 0 and 1.\n",
    "\n",
    "### Examples\n",
    "#### Example 1\n",
    "Input:\n",
    "```python\n",
    "priors = [0.2, 0.5, 0.3]\n",
    "likelihoods = [0.8, 0.6, 0.4]\n",
    "```\n",
    "Output:\n",
    "```python\n",
    "[0.3076923076923077, 0.46153846153846156, 0.23076923076923075]\n",
    "```\n",
    "\n",
    "#### Example 2\n",
    "Input:\n",
    "```python\n",
    "priors = [0.1, 0.4, 0.5]\n",
    "likelihoods = [0.7, 0.5, 0.6]\n",
    "```\n",
    "Output:\n",
    "```python\n",
    "[0.13793103448275862, 0.3448275862068966, 0.5172413793103449]\n",
    "```\n"
   ]
  },
  {
   "cell_type": "code",
   "execution_count": null,
   "id": "6c7bbbd6",
   "metadata": {},
   "outputs": [],
   "source": [
    "\n",
    "from typing import List\n",
    "\n",
    "def update_probabilities(priors: List[float], likelihoods: List[float]) -> List[float]:\n",
    "    # Your code here\n",
    "    pass\n"
   ]
  },
  {
   "cell_type": "markdown",
   "id": "2b79db13",
   "metadata": {},
   "source": [
    "\n",
    "## Approach\n",
    "\n",
    "### Bayes' Rule\n",
    "- Use Bayes' Rule to update the probabilities of success based on new evidence.\n",
    "- Bayes' Rule formula:\n",
    "  \\[\n",
    "  P(A|B) = \\frac{P(B|A) \\cdot P(A)}{P(B)}\n",
    "  \\]\n",
    "  Where:\n",
    "  - \\( P(A|B) \\) is the posterior probability.\n",
    "  - \\( P(B|A) \\) is the likelihood.\n",
    "  - \\( P(A) \\) is the prior probability.\n",
    "  - \\( P(B) \\) is the evidence, calculated as the sum of all \\( P(B|A) \\cdot P(A) \\).\n",
    "\n",
    "### Steps\n",
    "1. Calculate the evidence as the sum of the product of priors and likelihoods.\n",
    "2. Use Bayes' Rule to update each prior probability based on the corresponding likelihood.\n",
    "3. Return the list of updated probabilities.\n",
    "\n",
    "### Why Bayes' Rule Works Here\n",
    "- Bayes' Rule allows us to update our beliefs (probabilities) about the success of each ingredient based on new evidence provided by the alchemist’s notes.\n"
   ]
  },
  {
   "cell_type": "code",
   "execution_count": null,
   "id": "de00feb2",
   "metadata": {},
   "outputs": [],
   "source": [
    "\n",
    "def update_probabilities(priors: List[float], likelihoods: List[float]) -> List[float]:\n",
    "    evidence = sum(p * l for p, l in zip(priors, likelihoods))\n",
    "    posteriors = [(l * p) / evidence for p, l in zip(priors, likelihoods)]\n",
    "    return posteriors\n"
   ]
  },
  {
   "cell_type": "code",
   "execution_count": null,
   "id": "19f5f529",
   "metadata": {},
   "outputs": [],
   "source": [
    "\n",
    "# Test Cases\n",
    "priors1 = [0.2, 0.5, 0.3]\n",
    "likelihoods1 = [0.8, 0.6, 0.4]\n",
    "\n",
    "priors2 = [0.1, 0.4, 0.5]\n",
    "likelihoods2 = [0.7, 0.5, 0.6]\n",
    "\n",
    "print(update_probabilities(priors1, likelihoods1))  # Expected output: [0.3076923076923077, 0.46153846153846156, 0.23076923076923075]\n",
    "print(update_probabilities(priors2, likelihoods2))  # Expected output: [0.13793103448275862, 0.3448275862068966, 0.5172413793103449]\n"
   ]
  }
 ],
 "metadata": {},
 "nbformat": 4,
 "nbformat_minor": 5
}
