{
 "cells": [
  {
   "cell_type": "markdown",
   "id": "e4690eaf",
   "metadata": {},
   "source": [
    "# LeetCode Style Question: Intractability"
   ]
  },
  {
   "cell_type": "markdown",
   "id": "d28f14c6",
   "metadata": {},
   "source": [
    "\n",
    "## Problem Description\n",
    "\n",
    "Beary is given a list of problem IDs. He needs to sort them into two categories:\n",
    "- **Solvable**: Problems that can be solved in polynomial time (marked as even).\n",
    "- **Challenging**: Problems that are not easily solvable (marked as odd).\n",
    "\n",
    "**Function Signature:**\n",
    "```python\n",
    "def categorize_problems(problem_ids: List[int]) -> Dict[str, List[int]]:\n",
    "    pass\n",
    "```\n",
    "\n",
    "### Input\n",
    "- `problem_ids`: A list of integers representing problem IDs.\n",
    "\n",
    "### Output\n",
    "- Returns a dictionary with two keys: \"Solvable\" and \"Challenging\". The values are lists of problem IDs categorized accordingly.\n",
    "\n",
    "### Constraints\n",
    "- The length of `problem_ids` will be at most 1000.\n",
    "- The values in `problem_ids` will be between 1 and 10000.\n",
    "\n",
    "### Examples\n",
    "#### Example 1\n",
    "Input:\n",
    "```python\n",
    "problem_ids = [10, 15, 20, 25, 30]\n",
    "```\n",
    "Output:\n",
    "```python\n",
    "{\n",
    "    \"Solvable\": [10, 20, 30],\n",
    "    \"Challenging\": [15, 25]\n",
    "}\n",
    "```\n",
    "\n",
    "#### Example 2\n",
    "Input:\n",
    "```python\n",
    "problem_ids = [1, 2, 3, 4, 5]\n",
    "```\n",
    "Output:\n",
    "```python\n",
    "{\n",
    "    \"Solvable\": [2, 4],\n",
    "    \"Challenging\": [1, 3, 5]\n",
    "}\n",
    "```\n"
   ]
  },
  {
   "cell_type": "code",
   "execution_count": null,
   "id": "8df83821",
   "metadata": {},
   "outputs": [],
   "source": [
    "\n",
    "from typing import List, Dict\n",
    "\n",
    "def categorize_problems(problem_ids: List[int]) -> Dict[str, List[int]]:\n",
    "    # Your code here\n",
    "    pass\n"
   ]
  },
  {
   "cell_type": "markdown",
   "id": "0f47062a",
   "metadata": {},
   "source": [
    "\n",
    "## Approach\n",
    "\n",
    "### Categorization Strategy\n",
    "- Use a simple approach to categorize the problems based on whether the problem ID is even or odd.\n",
    "- Even problem IDs represent problems that can be solved in polynomial time.\n",
    "- Odd problem IDs represent problems that are not easily solvable.\n",
    "\n",
    "### Steps\n",
    "1. Initialize two empty lists for \"Solvable\" and \"Challenging\" categories.\n",
    "2. Iterate through the list of problem IDs.\n",
    "3. Append each problem ID to the appropriate category based on its parity (even or odd).\n",
    "4. Return the dictionary with the categorized problem IDs.\n",
    "\n",
    "### Why This Approach Works\n",
    "- The problem requires a straightforward categorization based on the parity of the integers, making it a simple and efficient approach.\n"
   ]
  },
  {
   "cell_type": "code",
   "execution_count": null,
   "id": "a51b61e2",
   "metadata": {},
   "outputs": [],
   "source": [
    "\n",
    "def categorize_problems(problem_ids: List[int]) -> Dict[str, List[int]]:\n",
    "    result = {\"Solvable\": [], \"Challenging\": []}\n",
    "    \n",
    "    for pid in problem_ids:\n",
    "        if pid % 2 == 0:\n",
    "            result[\"Solvable\"].append(pid)\n",
    "        else:\n",
    "            result[\"Challenging\"].append(pid)\n",
    "    \n",
    "    return result\n"
   ]
  },
  {
   "cell_type": "code",
   "execution_count": null,
   "id": "a7ba55c7",
   "metadata": {},
   "outputs": [],
   "source": [
    "\n",
    "# Test Cases\n",
    "problem_ids1 = [10, 15, 20, 25, 30]\n",
    "problem_ids2 = [1, 2, 3, 4, 5]\n",
    "\n",
    "print(categorize_problems(problem_ids1))  # Expected output: {\"Solvable\": [10, 20, 30], \"Challenging\": [15, 25]}\n",
    "print(categorize_problems(problem_ids2))  # Expected output: {\"Solvable\": [2, 4], \"Challenging\": [1, 3, 5]}\n"
   ]
  }
 ],
 "metadata": {},
 "nbformat": 4,
 "nbformat_minor": 5
}
