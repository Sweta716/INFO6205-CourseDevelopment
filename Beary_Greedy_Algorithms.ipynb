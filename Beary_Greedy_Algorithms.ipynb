{
 "cells": [
  {
   "cell_type": "markdown",
   "id": "56c92fa3",
   "metadata": {},
   "source": [
    "# LeetCode Style Question: Greedy Algorithms"
   ]
  },
  {
   "cell_type": "markdown",
   "id": "e867eccc",
   "metadata": {},
   "source": [
    "\n",
    "## Problem Description\n",
    "\n",
    "Beary has found a map to hidden pots of Golden Honey in the mystical forest. Each pot `i` contains `pots[i]` units of Golden Honey but is guarded by bees that require half as much regular honey to be distracted. Beary starts with a certain amount of regular honey. After collecting from a pot, he can use the Golden Honey as regular honey for future pots.\n",
    "\n",
    "Determine the maximum amount of Golden Honey Beary can collect.\n",
    "\n",
    "**Function Signature:**\n",
    "```python\n",
    "def max_golden_honey(pots: List[int], initial_honey: int) -> int:\n",
    "    pass\n",
    "```\n",
    "\n",
    "### Input\n",
    "- `pots`: A list of integers representing the amount of Golden Honey in each pot.\n",
    "- `initial_honey`: An integer representing the amount of regular honey Beary starts with.\n",
    "\n",
    "### Output\n",
    "- Returns an integer representing the maximum amount of Golden Honey Beary can collect.\n",
    "\n",
    "### Constraints\n",
    "- The length of `pots` will be at most 100.\n",
    "- The values in `pots` and `initial_honey` will be between 1 and 1000.\n",
    "\n",
    "### Examples\n",
    "#### Example 1\n",
    "Input:\n",
    "```python\n",
    "pots = [10, 20, 30]\n",
    "initial_honey = 15\n",
    "```\n",
    "Output:\n",
    "```python\n",
    "60\n",
    "```\n",
    "\n",
    "#### Example 2\n",
    "Input:\n",
    "```python\n",
    "pots = [5, 10, 15]\n",
    "initial_honey = 10\n",
    "```\n",
    "Output:\n",
    "```python\n",
    "30\n",
    "```\n"
   ]
  },
  {
   "cell_type": "code",
   "execution_count": null,
   "id": "9c77eca2",
   "metadata": {},
   "outputs": [],
   "source": [
    "from typing import List\n",
    "\n",
    "def max_golden_honey(pots: List[int], initial_honey: int) -> int:\n",
    "    # Your code here\n",
    "    pass\n"
   ]
  },
  {
   "cell_type": "markdown",
   "id": "e6feaba9",
   "metadata": {},
   "source": [
    "\n",
    "## Approach\n",
    "\n",
    "### Greedy Strategy\n",
    "- Use a greedy approach to maximize the amount of Golden Honey collected.\n",
    "- Sort the pots in descending order based on the amount of Golden Honey they contain.\n",
    "- Iterate through the sorted pots and collect Golden Honey if Beary has enough regular honey to distract the bees guarding the pot.\n",
    "\n",
    "### Steps\n",
    "1. Sort the pots in descending order.\n",
    "2. Initialize the total Golden Honey collected and the current amount of honey available.\n",
    "3. Iterate through the sorted pots and collect Golden Honey if possible.\n",
    "4. Return the total Golden Honey collected.\n",
    "\n",
    "### Why Greedy Algorithm Works Here\n",
    "- The greedy approach works because we are always trying to collect the maximum amount of Golden Honey available first, ensuring that Beary can use the collected Golden Honey to distract bees guarding the remaining pots.\n"
   ]
  },
  {
   "cell_type": "code",
   "execution_count": null,
   "id": "c560301f",
   "metadata": {},
   "outputs": [],
   "source": [
    "def max_golden_honey(pots: List[int], initial_honey: int) -> int:\n",
    "    pots.sort(reverse=True)\n",
    "    total_honey = 0\n",
    "    current_honey = initial_honey\n",
    "\n",
    "    for pot in pots:\n",
    "        required_honey = pot // 2\n",
    "        if current_honey >= required_honey:\n",
    "            total_honey += pot\n",
    "            current_honey += pot - required_honey\n",
    "        else:\n",
    "            break\n",
    "\n",
    "    return total_honey\n"
   ]
  },
  {
   "cell_type": "code",
   "execution_count": null,
   "id": "a9ce1c1d",
   "metadata": {},
   "outputs": [],
   "source": [
    "# Test Cases\n",
    "pots1 = [10, 20, 30]\n",
    "initial_honey1 = 15\n",
    "\n",
    "pots2 = [5, 10, 15]\n",
    "initial_honey2 = 10\n",
    "\n",
    "print(max_golden_honey(pots1, initial_honey1))  # Expected output: 60\n",
    "print(max_golden_honey(pots2, initial_honey2))  # Expected output: 30\n"
   ]
  }
 ],
 "metadata": {},
 "nbformat": 4,
 "nbformat_minor": 5
}
