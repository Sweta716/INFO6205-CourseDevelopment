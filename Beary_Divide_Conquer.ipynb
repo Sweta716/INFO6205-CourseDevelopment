{
 "cells": [
  {
   "cell_type": "markdown",
   "id": "bc43b5e8",
   "metadata": {},
   "source": [
    "# LeetCode Style Question: Divide and Conquer Strategies"
   ]
  },
  {
   "cell_type": "markdown",
   "id": "bff9a993",
   "metadata": {},
   "source": [
    "\n",
    "## Problem Description\n",
    "\n",
    "Beary is on a quest to collect Celestial Keys from ancient shrines to prevent an eternal winter. Each shrine has a puzzle that takes progressively more time to solve due to mental fatigue. Determine the best order for Beary to solve the puzzles, represented by an array of complexities, to minimize time spent and unlock all shrines.\n",
    "\n",
    "**Function Signature:**\n",
    "```python\n",
    "def optimal_puzzle_order(complexities: List[int]) -> int:\n",
    "    pass\n",
    "```\n",
    "\n",
    "### Input\n",
    "- `complexities`: A list of integers representing the complexities of the puzzles.\n",
    "\n",
    "### Output\n",
    "- Returns an integer representing the minimum total time Beary will spend solving all the puzzles.\n",
    "\n",
    "### Constraints\n",
    "- The length of `complexities` will be at most 100.\n",
    "- The values in `complexities` will be between 1 and 1000.\n",
    "\n",
    "### Examples\n",
    "#### Example 1\n",
    "Input:\n",
    "```python\n",
    "complexities = [10, 20, 30]\n",
    "```\n",
    "Output:\n",
    "```python\n",
    "60\n",
    "```\n",
    "\n",
    "#### Example 2\n",
    "Input:\n",
    "```python\n",
    "complexities = [5, 10, 15]\n",
    "```\n",
    "Output:\n",
    "```python\n",
    "30\n",
    "```\n"
   ]
  },
  {
   "cell_type": "code",
   "execution_count": null,
   "id": "452e1a8e",
   "metadata": {},
   "outputs": [],
   "source": [
    "\n",
    "from typing import List\n",
    "\n",
    "def optimal_puzzle_order(complexities: List[int]) -> int:\n",
    "    # Your code here\n",
    "    pass\n"
   ]
  },
  {
   "cell_type": "markdown",
   "id": "39225c94",
   "metadata": {},
   "source": [
    "\n",
    "## Approach\n",
    "\n",
    "### Greedy Strategy\n",
    "- Use a greedy approach to minimize the total time spent solving the puzzles.\n",
    "- Sort the puzzles by their complexities in ascending order.\n",
    "- Solve the puzzles in increasing order of complexity to minimize the time spent due to mental fatigue.\n",
    "\n",
    "### Steps\n",
    "1. Sort the list of complexities in ascending order.\n",
    "2. Initialize the total time spent and current time variables.\n",
    "3. Iterate through the sorted complexities and accumulate the total time spent.\n",
    "4. Return the total time spent.\n",
    "\n",
    "### Why Greedy Algorithm Works Here\n",
    "- The greedy approach works because solving easier puzzles first allows Beary to conserve energy and handle more complex puzzles later, minimizing the impact of mental fatigue.\n"
   ]
  },
  {
   "cell_type": "code",
   "execution_count": null,
   "id": "804908c5",
   "metadata": {},
   "outputs": [],
   "source": [
    "\n",
    "def optimal_puzzle_order(complexities: List[int]) -> int:\n",
    "    complexities.sort()\n",
    "    total_time = 0\n",
    "    current_time = 0\n",
    "\n",
    "    for complexity in complexities:\n",
    "        current_time += complexity\n",
    "        total_time += current_time\n",
    "\n",
    "    return total_time\n"
   ]
  },
  {
   "cell_type": "code",
   "execution_count": null,
   "id": "04e8c2cd",
   "metadata": {},
   "outputs": [],
   "source": [
    "\n",
    "# Test Cases\n",
    "complexities1 = [10, 20, 30]\n",
    "complexities2 = [5, 10, 15]\n",
    "\n",
    "print(optimal_puzzle_order(complexities1))  # Expected output: 60\n",
    "print(optimal_puzzle_order(complexities2))  # Expected output: 30\n"
   ]
  }
 ],
 "metadata": {},
 "nbformat": 4,
 "nbformat_minor": 5
}
