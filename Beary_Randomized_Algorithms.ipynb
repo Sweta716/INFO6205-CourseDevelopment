{
 "cells": [
  {
   "cell_type": "markdown",
   "id": "2834236e",
   "metadata": {},
   "source": [
    "# LeetCode Style Question: Randomized Algorithms"
   ]
  },
  {
   "cell_type": "markdown",
   "id": "311afebc",
   "metadata": {},
   "source": [
    "\n",
    "## Problem Description\n",
    "\n",
    "Beary wants to plant a row of flowers in the garden, with each flower having a specific color. However, he wants to avoid planting flowers of the same color next to each other to create a visually appealing pattern. Implement the `plantFlowers` function to arrange the flowers in the garden while minimizing the number of adjacent flowers with the same color.\n",
    "\n",
    "**Function Signature:**\n",
    "```python\n",
    "def plantFlowers(flowers: List[int]) -> List[int]:\n",
    "    pass\n",
    "```\n",
    "\n",
    "### Input\n",
    "- `flowers`: A list of integers representing the colors of the flowers.\n",
    "\n",
    "### Output\n",
    "- Returns a list of integers representing the arranged flowers such that the number of adjacent flowers with the same color is minimized.\n",
    "\n",
    "### Constraints\n",
    "- The length of `flowers` will be at most 100.\n",
    "- The values in `flowers` will be between 1 and 100.\n",
    "\n",
    "### Examples\n",
    "#### Example 1\n",
    "Input:\n",
    "```python\n",
    "flowers = [1, 2, 3, 1, 2, 3]\n",
    "```\n",
    "Output:\n",
    "```python\n",
    "[1, 2, 1, 3, 2, 3]\n",
    "```\n",
    "\n",
    "#### Example 2\n",
    "Input:\n",
    "```python\n",
    "flowers = [1, 1, 2, 2, 3, 3]\n",
    "```\n",
    "Output:\n",
    "```python\n",
    "[1, 2, 1, 3, 2, 3]\n",
    "```\n"
   ]
  },
  {
   "cell_type": "code",
   "execution_count": null,
   "id": "9aa57405",
   "metadata": {},
   "outputs": [],
   "source": [
    "\n",
    "from typing import List\n",
    "\n",
    "def plantFlowers(flowers: List[int]) -> List[int]:\n",
    "    # Your code here\n",
    "    pass\n"
   ]
  },
  {
   "cell_type": "markdown",
   "id": "3ec02aa4",
   "metadata": {},
   "source": [
    "\n",
    "## Approach\n",
    "\n",
    "### Randomized Algorithm\n",
    "- Use a randomized algorithm to arrange the flowers such that the number of adjacent flowers with the same color is minimized.\n",
    "- Randomly shuffle the flowers and then use a heuristic to swap adjacent flowers of the same color.\n",
    "\n",
    "### Steps\n",
    "1. Randomly shuffle the list of flowers.\n",
    "2. Iterate through the list and swap adjacent flowers if they have the same color.\n",
    "3. Repeat step 2 until the number of adjacent flowers with the same color is minimized.\n",
    "\n",
    "### Why Randomized Algorithm Works Here\n",
    "- The randomized approach helps in breaking initial patterns and providing a good starting point for the heuristic to work effectively.\n"
   ]
  },
  {
   "cell_type": "code",
   "execution_count": null,
   "id": "4c7d3010",
   "metadata": {},
   "outputs": [],
   "source": [
    "\n",
    "import random\n",
    "\n",
    "def plantFlowers(flowers: List[int]) -> List[int]:\n",
    "    random.shuffle(flowers)\n",
    "    \n",
    "    def count_adjacent_same(flowers):\n",
    "        count = 0\n",
    "        for i in range(1, len(flowers)):\n",
    "            if flowers[i] == flowers[i - 1]:\n",
    "                count += 1\n",
    "        return count\n",
    "    \n",
    "    current_count = count_adjacent_same(flowers)\n",
    "    best_arrangement = flowers[:]\n",
    "    best_count = current_count\n",
    "    \n",
    "    for _ in range(1000):  # Try 1000 random shuffles to find a good arrangement\n",
    "        random.shuffle(flowers)\n",
    "        current_count = count_adjacent_same(flowers)\n",
    "        if current_count < best_count:\n",
    "            best_count = current_count\n",
    "            best_arrangement = flowers[:]\n",
    "    \n",
    "    return best_arrangement\n"
   ]
  },
  {
   "cell_type": "code",
   "execution_count": null,
   "id": "39341f3d",
   "metadata": {},
   "outputs": [],
   "source": [
    "\n",
    "# Test Cases\n",
    "flowers1 = [1, 2, 3, 1, 2, 3]\n",
    "flowers2 = [1, 1, 2, 2, 3, 3]\n",
    "\n",
    "print(plantFlowers(flowers1))  # Expected output: [1, 2, 1, 3, 2, 3]\n",
    "print(plantFlowers(flowers2))  # Expected output: [1, 2, 1, 3, 2, 3]\n"
   ]
  }
 ],
 "metadata": {},
 "nbformat": 4,
 "nbformat_minor": 5
}
